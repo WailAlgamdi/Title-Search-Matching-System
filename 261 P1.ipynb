{
 "cells": [
  {
   "cell_type": "code",
   "execution_count": 105,
   "id": "47b0bed2",
   "metadata": {},
   "outputs": [],
   "source": [
    "import pandas as pd\n",
    "from rapidfuzz import process\n",
    "from sentence_transformers import SentenceTransformer, util\n",
    "import torch"
   ]
  },
  {
   "cell_type": "code",
   "execution_count": 147,
   "id": "e89f06a8",
   "metadata": {},
   "outputs": [],
   "source": [
    "df = pd.read_csv(\"C:\\\\Users\\\\waila\\\\Desktop\\\\Datasets\\\\Published news for December 2024 CSV.csv\")"
   ]
  },
  {
   "cell_type": "code",
   "execution_count": 109,
   "id": "9bdbee29",
   "metadata": {},
   "outputs": [],
   "source": [
    "# 1 - exact match method\n",
    "def exact_match(input_title):\n",
    "    matches = df[df[\"Title\"] == input_title]\n",
    "    if matches.empty:\n",
    "        return \"No exact match found.\"\n",
    "    return [{\"Title\": row[\"Title\"], \"Link\": row[\"Link\"]} for _, row in matches.iterrows()]\n"
   ]
  },
  {
   "cell_type": "code",
   "execution_count": 111,
   "id": "b11573e8",
   "metadata": {},
   "outputs": [
    {
     "data": {
      "text/plain": [
       "[{'Title': 'ع / رياضي / مدرب المنتخب السعودي : الخسارة أمام عمان مسؤوليتنا بالكامل ونحتاج لتحسين دفاعنا',\n",
       "  'Link': 'https://spa.gov.sa/w2236008'}]"
      ]
     },
     "execution_count": 111,
     "metadata": {},
     "output_type": "execute_result"
    }
   ],
   "source": [
    "input_title1 = \"ع / رياضي / مدرب المنتخب السعودي : الخسارة أمام عمان مسؤوليتنا بالكامل ونحتاج لتحسين دفاعنا\"\n",
    "exact_match(input_title1)"
   ]
  },
  {
   "cell_type": "code",
   "execution_count": 113,
   "id": "5f19c242",
   "metadata": {},
   "outputs": [],
   "source": [
    "def fuzzy_match(input_title, threshold=90):\n",
    "    titles = df[\"Title\"].tolist()\n",
    "    match, score, idx = process.extractOne(input_title, titles)\n",
    "    if score >= threshold:\n",
    "        result = df.iloc[idx]\n",
    "        return {\"Title\": result[\"Title\"], \"Link\": result[\"Link\"]}\n",
    "    return \"No fuzzy match found.\""
   ]
  },
  {
   "cell_type": "code",
   "execution_count": 149,
   "id": "b4102765-ea6e-4730-b06d-b74ca8db2f46",
   "metadata": {},
   "outputs": [
    {
     "data": {
      "text/plain": [
       "{'Title': 'ع / رياضي / مدرب المنتخب السعودي : الخسارة أمام عمان مسؤوليتنا بالكامل ونحتاج لتحسين دفاعنا',\n",
       " 'Link': 'https://spa.gov.sa/w2236008'}"
      ]
     },
     "execution_count": 149,
     "metadata": {},
     "output_type": "execute_result"
    }
   ],
   "source": [
    "input_title2 = \" الخسارة أمام عمان\"\n",
    "fuzzy_match(input_title2)"
   ]
  },
  {
   "cell_type": "code",
   "execution_count": 155,
   "id": "aaca1be6-69aa-4ea8-95ff-9f8649942b71",
   "metadata": {},
   "outputs": [],
   "source": [
    "def semantic_match(input_title, top_n=5, threshold=0.6):\n",
    "  \n",
    "    input_embedding = model.encode(input_title, convert_to_tensor=True)\n",
    "    \n",
    "    all_embeddings = torch.stack(df[\"embedding\"].tolist())\n",
    "    \n",
    "    cosine_scores = util.cos_sim(input_embedding, all_embeddings)[0]\n",
    "    \n",
    "    valid_indices = torch.where(cosine_scores >= threshold)[0]\n",
    "    \n",
    "    if valid_indices.numel() == 0:\n",
    "        return \"No matching titles found.\"\n",
    "    \n",
    "    sorted_valid_indices = valid_indices[torch.argsort(cosine_scores[valid_indices], descending=True)]\n",
    "    \n",
    "    top_indices = sorted_valid_indices[:top_n]\n",
    "    \n",
    "    results = df.iloc[top_indices.cpu().numpy()].copy()\n",
    "    \n",
    "    results[\"similarity_score\"] = cosine_scores[top_indices].cpu().numpy()\n",
    "    \n",
    "    formatted_results = results[[\"Title\", \"Link\"]].to_dict(orient=\"records\")\n",
    "    \n",
    "    return formatted_results"
   ]
  },
  {
   "cell_type": "code",
   "execution_count": 157,
   "id": "991b8186-fa5c-44ef-8395-b9434441d6c9",
   "metadata": {},
   "outputs": [
    {
     "name": "stdout",
     "output_type": "stream",
     "text": [
      "\n",
      "Top Matching Titles:\n",
      "\n",
      "Title: ع / رياضي / الفارس الأردني عابورة: \"قفز السعودية\" أصداؤها تتجاوز النطاق المحلي\n",
      "Link: https://spa.gov.sa/w2221358\n",
      "\n",
      "Title: ع / سياحة وترفيه / \"موسم الرياض\": مواجهة كبيرة ضمن POWER SLAP للمرة الأولى في السعودية \n",
      "Link: https://spa.gov.sa/w2220681\n",
      "\n",
      "Title: ع / ثقافي / \"عام الإبل\".. تظاهرة فريدة أبرزت عمق ارتباط السعوديين بالإبل\n",
      "Link: https://spa.gov.sa/w2234152\n",
      "\n",
      "Title: ع / رياضي / مدرب المنتخب السعودي : الخسارة أمام عمان مسؤوليتنا بالكامل ونحتاج لتحسين دفاعنا\n",
      "Link: https://spa.gov.sa/w2236008\n",
      "\n",
      "Title: ع / رياضي / مواجهة حاسمة تجمع المنتخب السعودي والمنتخب عماني غدًا في نصف نهائي \"خليجي 26\"\n",
      "Link: https://spa.gov.sa/w2235507\n",
      "\n"
     ]
    }
   ],
   "source": [
    "if \"embedding\" not in df.columns:\n",
    "    df[\"embedding\"] = df[\"Title\"].apply(lambda x: model.encode(x, convert_to_tensor=True))\n",
    "\n",
    "input_title3 = \"السعوديه ضد عمان\"\n",
    "top_matches = semantic_match(input_title3)\n",
    "\n",
    "if isinstance(top_matches, str):\n",
    "    print(top_matches)\n",
    "else:\n",
    "    print(\"\\nTop Matching Titles:\\n\")\n",
    "    for match in top_matches:\n",
    "        print(f\"Title: {match['Title']}\\nLink: {match['Link']}\\n\")\n"
   ]
  },
  {
   "cell_type": "code",
   "execution_count": null,
   "id": "df420c11-7e4f-42c0-8c68-a280f5b81e3e",
   "metadata": {},
   "outputs": [],
   "source": []
  }
 ],
 "metadata": {
  "kernelspec": {
   "display_name": "Python [conda env:base] *",
   "language": "python",
   "name": "conda-base-py"
  },
  "language_info": {
   "codemirror_mode": {
    "name": "ipython",
    "version": 3
   },
   "file_extension": ".py",
   "mimetype": "text/x-python",
   "name": "python",
   "nbconvert_exporter": "python",
   "pygments_lexer": "ipython3",
   "version": "3.12.7"
  }
 },
 "nbformat": 4,
 "nbformat_minor": 5
}
